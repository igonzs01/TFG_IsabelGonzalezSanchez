{
 "cells": [
  {
   "cell_type": "code",
   "execution_count": 10,
   "id": "98488811-2d70-471f-a157-a8fc6c3be3b1",
   "metadata": {},
   "outputs": [],
   "source": [
    "import pandas as pd\n",
    "import matplotlib\n",
    "import matplotlib.pyplot as plt\n",
    "import os\n",
    "import csv"
   ]
  },
  {
   "cell_type": "code",
   "execution_count": 11,
   "id": "8dc34078-91fa-4bdb-8a6b-74cb209a315d",
   "metadata": {},
   "outputs": [],
   "source": [
    "def find_delimiter(filename):\n",
    "    sniffer= csv.Sniffer()\n",
    "    with open(filename) as fp:\n",
    "        delimiter = sniffer.sniff(fp.read(5000)).delimiter\n",
    "    return delimiter"
   ]
  },
  {
   "cell_type": "code",
   "execution_count": 12,
   "id": "d4e90187-9d9f-41ad-a947-b66cd8c29e40",
   "metadata": {},
   "outputs": [],
   "source": [
    "def obtener_ruta_archivo():\n",
    "    while True:\n",
    "        ruta= input(\"Introduzca la ruta y nombre del archivo CSV:\")\n",
    "        separador= find_delimiter(ruta)\n",
    "        try:\n",
    "            df= pd.read_csv(ruta, sep= separador)\n",
    "            return df\n",
    "        except FileNotFoundError:\n",
    "            print(\"El archivo no se ha encontrado. Por favor ingrese una ruta válida.\")"
   ]
  },
  {
   "cell_type": "code",
   "execution_count": 13,
   "id": "8f9fdf73-d808-4905-944b-e0e705e84da6",
   "metadata": {},
   "outputs": [],
   "source": [
    "def grafica_global(df):\n",
    "    plt.figure(figsize=(100, 1)) #tamaño de la gráfica\n",
    "    plt.plot(df)\n",
    "    plt.title(\"Gráfica Global de Datos\")\n",
    "    plt.xlabel(\"Índice de Filas\")\n",
    "    plt.ylabel(\"Valores\")\n",
    "    plt.grid(True)\n",
    "\n",
    "    ruta= input(\"Introduce la ruta donde quiera guardar la gráfica: \")\n",
    "    nombre= input(\"Introduce el nombre del archivo sin extensión: \")\n",
    "\n",
    "    plt.savefig(f\"{ruta}/{nombre}.png\")\n",
    "    print(\"Archivo guardado como {ruta}/{nombre}.png\")"
   ]
  },
  {
   "cell_type": "code",
   "execution_count": 14,
   "id": "d5094d66-1cfe-4d2d-af9f-634e90fd0730",
   "metadata": {},
   "outputs": [],
   "source": [
    "def grafica_columna(df, columna):\n",
    "    if columna in df.columns: \n",
    "        plt.figure(figsize=(650, 9))\n",
    "        plt.plot(df[columna])\n",
    "        plt.title(f\"Gráfica de la Columna '{columna}'\")\n",
    "        plt.xlabel(\"Índice de Filas\")\n",
    "        plt.ylabel(\"Valores\")\n",
    "        plt.grid(True)\n",
    "\n",
    "        ruta= input(\"Introduce la ruta donde quiera guardar la gráfica: \")\n",
    "        nombre= input(\"Introduce el nombre del archivo sin extensión: \")\n",
    "        \n",
    "        plt.savefig(f\"{ruta}/{nombre}.png\")\n",
    "        print(f\"Archivo guardado como {ruta}/{nombre}.png\")\n",
    "    else:\n",
    "        print(f\"La columna '{columna}' no existe en el archivo CSV.\")\n"
   ]
  },
  {
   "cell_type": "code",
   "execution_count": 15,
   "id": "0981f779-e3ff-4b2d-aa2c-917ffbdedcb8",
   "metadata": {},
   "outputs": [],
   "source": [
    "def main():\n",
    "    df = obtener_ruta_archivo()\n",
    "    opcion= input(\"1) Gráfica global (1) \\n2) Columna específica (2)\")\n",
    "\n",
    "    if opcion == \"1\":\n",
    "        grafica_global(df)\n",
    "    elif opcion == \"2\":\n",
    "        columna = input(\"Introduce el nombre de la columna: \")\n",
    "        \n",
    "        for columna in df.columns: \n",
    "            print(columna)\n",
    "        \n",
    "        grafica_columna(df, columna)\n",
    "    else:\n",
    "        print(\"La opción escrita no es válida.Por favor, inténtalo de nuevo.\")\n"
   ]
  },
  {
   "cell_type": "code",
   "execution_count": 19,
   "id": "4713029b-f430-457e-b9e1-a181c1164bef",
   "metadata": {},
   "outputs": [
    {
     "name": "stdin",
     "output_type": "stream",
     "text": [
      "Introduzca la ruta y nombre del archivo CSV: C:\\Users\\isagl\\anaconda3\\envs\\tfg_shimmer\\datosCSVleer/limpios\n"
     ]
    },
    {
     "name": "stdout",
     "output_type": "stream",
     "text": [
      "El archivo no se ha encontrado. Por favor ingrese una ruta válida.\n"
     ]
    },
    {
     "name": "stdin",
     "output_type": "stream",
     "text": [
      "Introduzca la ruta y nombre del archivo CSV: C:\\Users\\isagl\\anaconda3\\envs\\tfg_shimmer\\datosCSVleer/limpios.csv\n",
      "1) Gráfica global (1) \n",
      "2) Columna específica (2) 2\n",
      "Introduce el nombre de la columna:  v\n"
     ]
    },
    {
     "name": "stdout",
     "output_type": "stream",
     "text": [
      "La columna 'v' no existe en el archivo CSV.\n"
     ]
    }
   ],
   "source": [
    "if __name__ == \"__main__\":\n",
    "    main()"
   ]
  },
  {
   "cell_type": "code",
   "execution_count": null,
   "id": "b72a0116-eee6-4e56-b940-2349898f24e0",
   "metadata": {},
   "outputs": [],
   "source": []
  }
 ],
 "metadata": {
  "kernelspec": {
   "display_name": "Python 3 (ipykernel)",
   "language": "python",
   "name": "python3"
  },
  "language_info": {
   "codemirror_mode": {
    "name": "ipython",
    "version": 3
   },
   "file_extension": ".py",
   "mimetype": "text/x-python",
   "name": "python",
   "nbconvert_exporter": "python",
   "pygments_lexer": "ipython3",
   "version": "3.10.14"
  }
 },
 "nbformat": 4,
 "nbformat_minor": 5
}
