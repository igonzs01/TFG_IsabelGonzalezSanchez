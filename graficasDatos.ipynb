{
 "cells": [
  {
   "cell_type": "code",
   "execution_count": 86,
   "id": "8dc34078-91fa-4bdb-8a6b-74cb209a315d",
   "metadata": {},
   "outputs": [],
   "source": [
    "import pandas as pd\n",
    "import matplotlib\n",
    "import matplotlib.pyplot as plt\n",
    "import os\n",
    "import csv"
   ]
  },
  {
   "cell_type": "code",
   "execution_count": 87,
   "id": "88d35187-a191-43d7-97d1-d415ddf38b8b",
   "metadata": {},
   "outputs": [],
   "source": [
    "def find_delimiter(filename):  #función para obtener qué delimitador tiene el archivo CSV\n",
    "    sniffer= csv.Sniffer()\n",
    "    with open(filename) as fp:\n",
    "        delimiter = sniffer.sniff(fp.read(5000)).delimiter\n",
    "    return delimiter"
   ]
  },
  {
   "cell_type": "code",
   "execution_count": 88,
   "id": "d4e90187-9d9f-41ad-a947-b66cd8c29e40",
   "metadata": {},
   "outputs": [],
   "source": [
    "def obtener_ruta_archivo():\n",
    "    while True:\n",
    "        ruta= input(\"Introduzca la ruta y nombre del archivo CSV:\") #lee la ruta \n",
    "        separador= find_delimiter(ruta)\n",
    "        try:\n",
    "            df= pd.read_csv(ruta, sep= separador)\n",
    "            return df\n",
    "        except FileNotFoundError:\n",
    "            print(\"El archivo no se ha encontrado. Por favor ingrese una ruta válida.\")"
   ]
  },
  {
   "cell_type": "code",
   "execution_count": 89,
   "id": "d5094d66-1cfe-4d2d-af9f-634e90fd0730",
   "metadata": {},
   "outputs": [],
   "source": [
    "def grafica_columna(df, columna):\n",
    "    datos_mov =  ['ACCEL_LN', 'GYRO_MPU9150', 'ACCEL_LSM303DLHC', 'MAG_LSM303DLHC']\n",
    "\n",
    "    plt.figure(figsize=(9, 8)) #para hacer una única gráfica\n",
    "    \n",
    "    if columna in datos_mov:  #datos de movimiento, debe coger las columnas de los tres ejes de coordenadas\n",
    "        for v in ['X', 'Y', 'Z']:\n",
    "            plt.plot(df['timestamp_CPU'], df[f'{columna}_{v}'], label=f'{columna}_{v}')\n",
    "            plt.legend()\n",
    "    else:\n",
    "        plt.plot(df['timestamp_CPU'], df[columna])  #resto de datos que no sean de movimiento\n",
    "        \n",
    "    plt.title(f\"Gráfica de la Columna '{columna}'\")\n",
    "    plt.ylabel(columna)\n",
    "    plt.xlabel(\"Timestamp\")\n",
    "    plt.grid(True)\n",
    "        \n",
    "    ruta = input(\"Introduce la ruta donde quiera guardar la gráfica: \")\n",
    "    nombre = input(\"Introduce el nombre del archivo sin extensión: \")\n",
    "        \n",
    "    plt.savefig(f\"{ruta}/{nombre}.png\")\n",
    "    plt.close()\n",
    "    print(f\"Archivo guardado en {ruta}/{nombre}.png\")\n",
    "    \n"
   ]
  },
  {
   "cell_type": "code",
   "execution_count": 90,
   "id": "0981f779-e3ff-4b2d-aa2c-917ffbdedcb8",
   "metadata": {},
   "outputs": [],
   "source": [
    "def main():\n",
    "    df = obtener_ruta_archivo()\n",
    "    columna = input(\"Introduce el nombre de la columna para graficar: \")\n",
    "    grafica_columna(df, columna)\n"
   ]
  },
  {
   "cell_type": "code",
   "execution_count": 91,
   "id": "b72a0116-eee6-4e56-b940-2349898f24e0",
   "metadata": {},
   "outputs": [
    {
     "name": "stdin",
     "output_type": "stream",
     "text": [
      "Introduzca la ruta y nombre del archivo CSV: datosCSVleer/001_shimmer_data.csv\n",
      "Introduce el nombre de la columna para graficar:  ACCEL_LN\n",
      "Introduce la ruta donde quiera guardar la gráfica:  datosCSVleer\n",
      "Introduce el nombre del archivo sin extensión:  ACCEL1\n"
     ]
    },
    {
     "name": "stdout",
     "output_type": "stream",
     "text": [
      "Archivo guardado en datosCSVleer/ACCEL1.png\n"
     ]
    }
   ],
   "source": [
    "if __name__ == \"__main__\":\n",
    "    main()"
   ]
  }
 ],
 "metadata": {
  "kernelspec": {
   "display_name": "Python 3 (ipykernel)",
   "language": "python",
   "name": "python3"
  },
  "language_info": {
   "codemirror_mode": {
    "name": "ipython",
    "version": 3
   },
   "file_extension": ".py",
   "mimetype": "text/x-python",
   "name": "python",
   "nbconvert_exporter": "python",
   "pygments_lexer": "ipython3",
   "version": "3.10.14"
  }
 },
 "nbformat": 4,
 "nbformat_minor": 5
}
