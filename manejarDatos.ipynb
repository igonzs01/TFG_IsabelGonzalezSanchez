{
 "cells": [
  {
   "cell_type": "code",
   "execution_count": 2,
   "id": "859b7824-f1aa-4bfb-bb39-d1a0b06e0f67",
   "metadata": {},
   "outputs": [],
   "source": [
    "import pandas as pd\n",
    "import os\n",
    "import csv\n",
    "import numpy as np"
   ]
  },
  {
   "cell_type": "code",
   "execution_count": 16,
   "id": "039eda78-8a9a-4ec7-8032-8b9473e5ca9d",
   "metadata": {},
   "outputs": [],
   "source": [
    "def average(data):\n",
    "    df=pd.DataFrame()\n",
    "    data_columns= data.columns #cabeceras\n",
    "    comparador = int(data.iloc[0][0]) #nos quedamos con la parte entera del timestamp CPU\n",
    "\n",
    "    cont = -1\n",
    "    n=0\n",
    "    sumas = np.zeros(shape=22)\n",
    "    \n",
    "    for column in data_columns:\n",
    "        df[column]= [] #metemos las columnas en el DataFrame\n",
    "    sit=0\n",
    "    \n",
    "    while (cont<len(data.axes[0])):\n",
    "        if(cont>-1):\n",
    "            row= data.iloc[cont]\n",
    "            timestamp = int(row[0])\n",
    "            if((timestamp == comparador) and (cont<(len(data.axes[0])-1))):\n",
    "                col=0\n",
    "                for column in row:\n",
    "                    sumas[col]= sumas[col] + column\n",
    "                    col= col+1\n",
    "                n=n+1\n",
    "            else:\n",
    "                col = 0\n",
    "                for num in sumas: #cada pos de sumas\n",
    "                    sumas[col]= num/n #media de las columnas con mismo timestamp\n",
    "                    col= col +1 \n",
    "    \n",
    "                df.loc[sit] = sumas\n",
    "                sit = sit + 1      \n",
    "\n",
    "                col=0\n",
    "\n",
    "                sumas = np.zeros(shape=22)\n",
    "                comparador = int(row[0]) #comparar con el siguiente\n",
    "                for column in row:\n",
    "                    sumas[col]= column\n",
    "                    col= col+1\n",
    "                n = n+1\n",
    "                \n",
    "        cont=cont+1\n",
    "    return df"
   ]
  },
  {
   "cell_type": "code",
   "execution_count": 4,
   "id": "9e78c9d9-cde8-47c2-b60b-6082a11833a8",
   "metadata": {},
   "outputs": [],
   "source": [
    "def find_delimiter(filename):\n",
    "    sniffer= csv.Sniffer()\n",
    "    with open(filename) as fp:\n",
    "        delimiter = sniffer.sniff(fp.read(5000)).delimiter\n",
    "    return delimiter"
   ]
  },
  {
   "cell_type": "code",
   "execution_count": 13,
   "id": "c4c82de0-fcc7-4ee0-a55a-f4ad14e1870f",
   "metadata": {},
   "outputs": [],
   "source": [
    "def clean_data(input_file, output_file):\n",
    "    #Apertura del archivo con Pandas DataFrame \n",
    "    #Detección del separador de datos\n",
    "    separador= find_delimiter(input_file)\n",
    "    df=pd.read_csv(input_file, sep= separador)\n",
    "\n",
    "    headers = df.columns\n",
    "    filac = df.iloc[0]\n",
    "\n",
    "    #Detección de si la segunda fila son datos o cabeceras\n",
    "    isFloat= isinstance(filac.iloc[0], float)\n",
    "    \n",
    "    nuevas = [] \n",
    "    contador = 0\n",
    "    if (isFloat==False):\n",
    "        #Combinación de las cabeceras de datos con sus correspondientes unidades, eliminando la segunda cabecera \n",
    "        for cabeceras in headers: \n",
    "            cabeceras = cabeceras + \" (\" + filac.iloc[contador] + \")\"\n",
    "            nuevas.append(cabeceras)\n",
    "            contador = contador +1\n",
    "        df.columns= nuevas\n",
    "        df = df.drop([0])\n",
    "    \n",
    "\n",
    "    #Eliminación de filas con NaN\n",
    "    clean_df = average(df.dropna(axis=0))\n",
    "    \n",
    "    #Escribe un los datos filtrados en un archivo nuevo \n",
    "    clean_df.to_csv(output_file, index=False, sep = separador)\n",
    "    print(\"Datos limpios guardados como \", output_file)"
   ]
  },
  {
   "cell_type": "code",
   "execution_count": 30,
   "id": "c99b734e-c224-4deb-9a1b-513606d21820",
   "metadata": {},
   "outputs": [],
   "source": [
    "def main(): \n",
    "    while True: \n",
    "        # Solicitar al usuario que ingrese el nombre del archivo de entrada\n",
    "        input_file = input(\"Ingrese la ruta y nombre del archivo CSV de entrada: \")\n",
    "    \n",
    "         # Solicitar al usuario que ingrese el nombre del archivo de salida\n",
    "        output_file = input(\"Ingrese la ruta y el nombre del archivo CSV de salida para los datos limpios: \")\n",
    "    \n",
    "        if input_file == output_file: \n",
    "            print(\"Por favor, indique nombres para los archivos que sean distintivos\")\n",
    "        else: \n",
    "            # Llamar a la función para limpiar los datos\n",
    "            clean_data(input_file, output_file)\n",
    "            break"
   ]
  },
  {
   "cell_type": "code",
   "execution_count": 31,
   "id": "7eeed2f9-4a69-4840-9e9c-fc22a06d94b7",
   "metadata": {},
   "outputs": [
    {
     "name": "stdin",
     "output_type": "stream",
     "text": [
      "Ingrese la ruta y nombre del archivo CSV de entrada:  C:\\Users\\isagl\\anaconda3\\envs\\tfg_shimmer\\datosCSVleer/default_exp_Session1_Shimmer_F693_Calibrated_SD.csv\n",
      "Ingrese la ruta y el nombre del archivo CSV de salida para los datos limpios:  C:\\Users\\isagl\\anaconda3\\envs\\tfg_shimmer\\datosCSVleer/limpios.csv\n"
     ]
    },
    {
     "name": "stdout",
     "output_type": "stream",
     "text": [
      "Datos limpios guardados como  C:\\Users\\isagl\\anaconda3\\envs\\tfg_shimmer\\datosCSVleer/limpios.csv\n"
     ]
    }
   ],
   "source": [
    "if __name__ == \"__main__\":\n",
    "    main()"
   ]
  }
 ],
 "metadata": {
  "kernelspec": {
   "display_name": "Python 3 (ipykernel)",
   "language": "python",
   "name": "python3"
  },
  "language_info": {
   "codemirror_mode": {
    "name": "ipython",
    "version": 3
   },
   "file_extension": ".py",
   "mimetype": "text/x-python",
   "name": "python",
   "nbconvert_exporter": "python",
   "pygments_lexer": "ipython3",
   "version": "3.10.14"
  }
 },
 "nbformat": 4,
 "nbformat_minor": 5
}
