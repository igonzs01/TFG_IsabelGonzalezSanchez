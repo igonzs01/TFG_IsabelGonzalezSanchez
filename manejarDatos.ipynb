{
 "cells": [
  {
   "cell_type": "code",
   "execution_count": 1,
   "id": "859b7824-f1aa-4bfb-bb39-d1a0b06e0f67",
   "metadata": {},
   "outputs": [],
   "source": [
    "import pandas as pd\n",
    "import os"
   ]
  },
  {
   "cell_type": "code",
   "execution_count": 12,
   "id": "57b11742-0225-4e02-b85d-cfe7bd057f2f",
   "metadata": {},
   "outputs": [],
   "source": [
    "def clean_data(input_file, output_file):\n",
    "#lee los archivos de la ruta que le especificamos\n",
    "    try:\n",
    "        df=pd.read_csv(input_file)\n",
    "    except FileNotFoundError: \n",
    "        print(FileNotFoundError)\n",
    "        print(\"El archivo especificado no se ha encontrado, indique una ruta válida\")\n",
    "        return\n",
    "\n",
    "    #Eliminar las filas que tengan valor NaN\n",
    "    clean_df = df.dropna()\n",
    "\n",
    "    #Escribe un los datos filtrados en un archivo nuevo \n",
    "    clean_df.to_csv(output_file, index=False)\n",
    "    print(\"Datos limpios guardados como \", output_file)"
   ]
  },
  {
   "cell_type": "code",
   "execution_count": 13,
   "id": "c99b734e-c224-4deb-9a1b-513606d21820",
   "metadata": {},
   "outputs": [],
   "source": [
    "def main(): \n",
    "    while True: \n",
    "        # Solicitar al usuario que ingrese el nombre del archivo de entrada\n",
    "        input_file = input(\"Ingrese la ruta y nombre del archivo CSV de entrada: \")\n",
    "    \n",
    "         # Solicitar al usuario que ingrese el nombre del archivo de salida\n",
    "        output_file = input(\"Ingrese la ruta y el nombre del archivo CSV de salida para los datos limpios: \")\n",
    "    \n",
    "        if input_file == output_file: \n",
    "            print(\"Por favor, indique nombres para los archivos que sean distintivos\")\n",
    "        else: \n",
    "            # Llamar a la función para limpiar los datos\n",
    "            clean_data(input_file, output_file)\n",
    "            break"
   ]
  },
  {
   "cell_type": "code",
   "execution_count": 15,
   "id": "7eeed2f9-4a69-4840-9e9c-fc22a06d94b7",
   "metadata": {},
   "outputs": [
    {
     "name": "stdin",
     "output_type": "stream",
     "text": [
      "Ingrese la ruta y nombre del archivo CSV de entrada:  datosCSVleer/default_exp_Session1_Shimmer_F693_Calibrated_SD.csv\n",
      "Ingrese la ruta y el nombre del archivo CSV de salida para los datos limpios:  datosCSVleer/default_exp_Session1_Shimmer_F693_Calibrated_SD_f.csv\n"
     ]
    },
    {
     "name": "stdout",
     "output_type": "stream",
     "text": [
      "Datos limpios guardados como  datosCSVleer/default_exp_Session1_Shimmer_F693_Calibrated_SD_f.csv\n"
     ]
    }
   ],
   "source": [
    "if __name__ == \"__main__\":\n",
    "    main()"
   ]
  },
  {
   "cell_type": "code",
   "execution_count": null,
   "id": "e26c428f-19ef-4732-9ea8-8a3527e4a277",
   "metadata": {},
   "outputs": [],
   "source": []
  }
 ],
 "metadata": {
  "kernelspec": {
   "display_name": "Python 3 (ipykernel)",
   "language": "python",
   "name": "python3"
  },
  "language_info": {
   "codemirror_mode": {
    "name": "ipython",
    "version": 3
   },
   "file_extension": ".py",
   "mimetype": "text/x-python",
   "name": "python",
   "nbconvert_exporter": "python",
   "pygments_lexer": "ipython3",
   "version": "3.10.14"
  }
 },
 "nbformat": 4,
 "nbformat_minor": 5
}
