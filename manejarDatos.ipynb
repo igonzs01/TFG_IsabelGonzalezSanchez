{
 "cells": [
  {
   "cell_type": "code",
   "execution_count": 1,
   "id": "859b7824-f1aa-4bfb-bb39-d1a0b06e0f67",
   "metadata": {},
   "outputs": [],
   "source": [
    "import pandas as pd\n",
    "import os\n",
    "import csv\n",
    "import numpy as np"
   ]
  },
  {
   "cell_type": "code",
   "execution_count": 6,
   "id": "039eda78-8a9a-4ec7-8032-8b9473e5ca9d",
   "metadata": {},
   "outputs": [],
   "source": [
    "def average(data):\n",
    "    df=data\n",
    "    \n",
    "    # Convertir la columna 'timestamp_CPU' a datetime si es necesario\n",
    "    df['timestamp_CPU'] = pd.to_datetime(df['timestamp_CPU'], unit='s')\n",
    "\n",
    "    # Redondear los timestamps al segundo más cercano\n",
    "    df['timestamp_CPU'] = df['timestamp_CPU'].dt.round('S')\n",
    "\n",
    "    # Agrupar los datos por 'timestamp_CPU' y calcular la media de las demás columnas\n",
    "    grouped_data = df.groupby('timestamp_CPU').mean().reset_index()\n",
    "\n",
    "    return grouped_data\n",
    "    \n"
   ]
  },
  {
   "cell_type": "code",
   "execution_count": 7,
   "id": "9e78c9d9-cde8-47c2-b60b-6082a11833a8",
   "metadata": {},
   "outputs": [],
   "source": [
    "def find_delimiter(filename): #detector del separador que contiene el archivo CSV\n",
    "    sniffer= csv.Sniffer()\n",
    "    with open(filename) as fp:\n",
    "        delimiter = sniffer.sniff(fp.read(5000)).delimiter\n",
    "    return delimiter"
   ]
  },
  {
   "cell_type": "code",
   "execution_count": 8,
   "id": "c4c82de0-fcc7-4ee0-a55a-f4ad14e1870f",
   "metadata": {},
   "outputs": [],
   "source": [
    "def clean_data(input_file, output_file):\n",
    "    #Apertura del archivo con Pandas DataFrame \n",
    "    #Detección del separador de datos\n",
    "    separador= find_delimiter(input_file)\n",
    "    df=pd.read_csv(input_file, sep= separador)\n",
    "\n",
    "    headers = df.columns\n",
    "    filac = df.iloc[0]\n",
    "\n",
    "    #Eliminación de filas con NaN y realización de la media según las timestamp\n",
    "    clean_df = average(df.dropna(axis=0))\n",
    "    \n",
    "    #Escribe un los datos filtrados en un archivo nuevo \n",
    "    clean_df.to_csv(output_file, index=False, sep = separador)\n",
    "    print(\"Datos limpios guardados como \", output_file)"
   ]
  },
  {
   "cell_type": "code",
   "execution_count": 9,
   "id": "c99b734e-c224-4deb-9a1b-513606d21820",
   "metadata": {},
   "outputs": [],
   "source": [
    "def main(): \n",
    "    while True: \n",
    "        # Solicitar al usuario que ingrese el nombre del archivo de entrada\n",
    "        input_file = input(\"Ingrese la ruta y nombre del archivo CSV de entrada: \")\n",
    "    \n",
    "         # Solicitar al usuario que ingrese el nombre del archivo de salida\n",
    "        output_file = input(\"Ingrese la ruta y el nombre del archivo CSV de salida para los datos limpios: \")\n",
    "    \n",
    "        if input_file == output_file: \n",
    "            print(\"Por favor, indique nombres para los archivos que sean distintivos\")\n",
    "        else: \n",
    "            # Llamar a la función para limpiar los datos\n",
    "            clean_data(input_file, output_file)\n",
    "            break"
   ]
  },
  {
   "cell_type": "code",
   "execution_count": 6,
   "id": "7eeed2f9-4a69-4840-9e9c-fc22a06d94b7",
   "metadata": {},
   "outputs": [
    {
     "name": "stdin",
     "output_type": "stream",
     "text": [
      "Ingrese la ruta y nombre del archivo CSV de entrada:  datosCSVleer/001_shimmer_data.csv\n",
      "Ingrese la ruta y el nombre del archivo CSV de salida para los datos limpios:  datosCSVleer/001_shimmer_limpios.csv\n"
     ]
    },
    {
     "name": "stdout",
     "output_type": "stream",
     "text": [
      "Datos limpios guardados como  datosCSVleer/001_shimmer_limpios.csv\n"
     ]
    },
    {
     "name": "stderr",
     "output_type": "stream",
     "text": [
      "C:\\Users\\isagl\\AppData\\Local\\Temp\\ipykernel_23252\\2979926440.py:8: FutureWarning: 'S' is deprecated and will be removed in a future version, please use 's' instead.\n",
      "  df['timestamp_CPU'] = df['timestamp_CPU'].dt.round('S')\n"
     ]
    }
   ],
   "source": [
    "if __name__ == \"__main__\":\n",
    "    main()"
   ]
  }
 ],
 "metadata": {
  "kernelspec": {
   "display_name": "Python 3 (ipykernel)",
   "language": "python",
   "name": "python3"
  },
  "language_info": {
   "codemirror_mode": {
    "name": "ipython",
    "version": 3
   },
   "file_extension": ".py",
   "mimetype": "text/x-python",
   "name": "python",
   "nbconvert_exporter": "python",
   "pygments_lexer": "ipython3",
   "version": "3.10.14"
  }
 },
 "nbformat": 4,
 "nbformat_minor": 5
}
